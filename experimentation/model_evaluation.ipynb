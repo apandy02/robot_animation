{
 "cells": [
  {
   "cell_type": "code",
   "execution_count": null,
   "metadata": {},
   "outputs": [
    {
     "name": "stderr",
     "output_type": "stream",
     "text": [
      "/Users/apandya/weekend_experiments/robot_animation/.venv/lib/python3.11/site-packages/tqdm/auto.py:21: TqdmWarning: IProgress not found. Please update jupyter and ipywidgets. See https://ipywidgets.readthedocs.io/en/stable/user_install.html\n",
      "  from .autonotebook import tqdm as notebook_tqdm\n"
     ]
    }
   ],
   "source": [
    "from stable_baselines3 import PPO\n",
    "from robot_animation.ppo_training import evaluate_policy\n",
    "import gymnasium as gym\n",
    "from robot_animation.data_processing import process_raw_robot_data, robot_data_to_qpos_qvel\n",
    "\n",
    "import numpy as np\n",
    "# Load the trained model from the zip file\n",
    "model = PPO.load(\"../models/ppo_robot_animation\")\n",
    "csv_path = \"../data/kuka_2.csv\"\n",
    "\n",
    "frame_rate = 153\n",
    "\n",
    "animation_df = process_raw_robot_data(csv_path)\n",
    "target_qpos, _ = robot_data_to_qpos_qvel(animation_df, num_q=7)\n",
    "\n",
    "target_qvel = np.zeros_like(target_qpos)\n",
    "target_qvel[1:] = (target_qpos[1:] - target_qpos[:-1]) * frame_rate # TODO: shift this upstream\n",
    "target_qvel[0] = np.zeros(target_qpos.shape[1])  \n",
    "\n",
    "\n",
    "eval_env = gym.make(\n",
    "    \"RobotAnimationEnv-kuka\",\n",
    "    animation_frame_rate=frame_rate,\n",
    "    target_qpos=target_qpos,\n",
    "    target_qvel=target_qvel,\n",
    "    num_q=7,\n",
    "    reset_noise_scale=3,\n",
    ")\n",
    "\n",
    "\n",
    "eval_env.reset()\n",
    "\n",
    "frames = evaluate_policy(model, eval_env, num_episodes=1)\n",
    "\n",
    "eval_env.close()\n"
   ]
  },
  {
   "cell_type": "code",
   "execution_count": null,
   "metadata": {},
   "outputs": [],
   "source": []
  }
 ],
 "metadata": {
  "kernelspec": {
   "display_name": ".venv",
   "language": "python",
   "name": "python3"
  },
  "language_info": {
   "codemirror_mode": {
    "name": "ipython",
    "version": 3
   },
   "file_extension": ".py",
   "mimetype": "text/x-python",
   "name": "python",
   "nbconvert_exporter": "python",
   "pygments_lexer": "ipython3",
   "version": "3.11.10"
  }
 },
 "nbformat": 4,
 "nbformat_minor": 2
}
