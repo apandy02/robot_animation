{
 "cells": [
  {
   "cell_type": "code",
   "execution_count": 1,
   "metadata": {},
   "outputs": [
    {
     "data": {
      "text/html": [
       "<div>\n",
       "<style scoped>\n",
       "    .dataframe tbody tr th:only-of-type {\n",
       "        vertical-align: middle;\n",
       "    }\n",
       "\n",
       "    .dataframe tbody tr th {\n",
       "        vertical-align: top;\n",
       "    }\n",
       "\n",
       "    .dataframe thead th {\n",
       "        text-align: right;\n",
       "    }\n",
       "</style>\n",
       "<table border=\"1\" class=\"dataframe\">\n",
       "  <thead>\n",
       "    <tr style=\"text-align: right;\">\n",
       "      <th></th>\n",
       "      <th>Frame</th>\n",
       "      <th>Link</th>\n",
       "      <th>Parent</th>\n",
       "      <th>X_Position</th>\n",
       "      <th>Y_Position</th>\n",
       "      <th>Z_Position</th>\n",
       "      <th>X_Rotation</th>\n",
       "      <th>Y_Rotation</th>\n",
       "      <th>Z_Rotation</th>\n",
       "      <th>Y_Velocity</th>\n",
       "      <th>X_Velocity</th>\n",
       "      <th>Z_Velocity</th>\n",
       "    </tr>\n",
       "  </thead>\n",
       "  <tbody>\n",
       "    <tr>\n",
       "      <th>0</th>\n",
       "      <td>1</td>\n",
       "      <td>LinkN0</td>\n",
       "      <td>Robot KUKA LBR Iiwa14</td>\n",
       "      <td>0.000000e+00</td>\n",
       "      <td>0.000000e+00</td>\n",
       "      <td>0.000000</td>\n",
       "      <td>0</td>\n",
       "      <td>0.0</td>\n",
       "      <td>0.0</td>\n",
       "      <td>0.0</td>\n",
       "      <td>0</td>\n",
       "      <td>0</td>\n",
       "    </tr>\n",
       "    <tr>\n",
       "      <th>1</th>\n",
       "      <td>1</td>\n",
       "      <td>LinkN0-Axis</td>\n",
       "      <td>LinkN0</td>\n",
       "      <td>-3.490000e-08</td>\n",
       "      <td>0.000000e+00</td>\n",
       "      <td>0.157500</td>\n",
       "      <td>0</td>\n",
       "      <td>0.0</td>\n",
       "      <td>0.0</td>\n",
       "      <td>0.0</td>\n",
       "      <td>0</td>\n",
       "      <td>0</td>\n",
       "    </tr>\n",
       "    <tr>\n",
       "      <th>2</th>\n",
       "      <td>1</td>\n",
       "      <td>LinkN1</td>\n",
       "      <td>LinkN0</td>\n",
       "      <td>-3.490000e-08</td>\n",
       "      <td>0.000000e+00</td>\n",
       "      <td>0.157500</td>\n",
       "      <td>0</td>\n",
       "      <td>0.0</td>\n",
       "      <td>0.0</td>\n",
       "      <td>0.0</td>\n",
       "      <td>0</td>\n",
       "      <td>0</td>\n",
       "    </tr>\n",
       "    <tr>\n",
       "      <th>3</th>\n",
       "      <td>1</td>\n",
       "      <td>LinkN1-Axis</td>\n",
       "      <td>LinkN1</td>\n",
       "      <td>-1.550000e-09</td>\n",
       "      <td>4.270000e-08</td>\n",
       "      <td>0.360067</td>\n",
       "      <td>0</td>\n",
       "      <td>0.0</td>\n",
       "      <td>0.0</td>\n",
       "      <td>0.0</td>\n",
       "      <td>0</td>\n",
       "      <td>0</td>\n",
       "    </tr>\n",
       "    <tr>\n",
       "      <th>4</th>\n",
       "      <td>1</td>\n",
       "      <td>LinkN2</td>\n",
       "      <td>LinkN1</td>\n",
       "      <td>-1.550000e-09</td>\n",
       "      <td>-7.720000e-05</td>\n",
       "      <td>0.360067</td>\n",
       "      <td>0</td>\n",
       "      <td>0.0</td>\n",
       "      <td>0.0</td>\n",
       "      <td>0.0</td>\n",
       "      <td>0</td>\n",
       "      <td>0</td>\n",
       "    </tr>\n",
       "  </tbody>\n",
       "</table>\n",
       "</div>"
      ],
      "text/plain": [
       "   Frame         Link                 Parent    X_Position    Y_Position  \\\n",
       "0      1       LinkN0  Robot KUKA LBR Iiwa14  0.000000e+00  0.000000e+00   \n",
       "1      1  LinkN0-Axis                 LinkN0 -3.490000e-08  0.000000e+00   \n",
       "2      1       LinkN1                 LinkN0 -3.490000e-08  0.000000e+00   \n",
       "3      1  LinkN1-Axis                 LinkN1 -1.550000e-09  4.270000e-08   \n",
       "4      1       LinkN2                 LinkN1 -1.550000e-09 -7.720000e-05   \n",
       "\n",
       "   Z_Position  X_Rotation  Y_Rotation  Z_Rotation  Y_Velocity  X_Velocity  \\\n",
       "0    0.000000           0         0.0         0.0         0.0           0   \n",
       "1    0.157500           0         0.0         0.0         0.0           0   \n",
       "2    0.157500           0         0.0         0.0         0.0           0   \n",
       "3    0.360067           0         0.0         0.0         0.0           0   \n",
       "4    0.360067           0         0.0         0.0         0.0           0   \n",
       "\n",
       "   Z_Velocity  \n",
       "0           0  \n",
       "1           0  \n",
       "2           0  \n",
       "3           0  \n",
       "4           0  "
      ]
     },
     "execution_count": 1,
     "metadata": {},
     "output_type": "execute_result"
    }
   ],
   "source": [
    "import pandas as pd \n",
    "\n",
    "data_dir = '../data/'\n",
    "\n",
    "animation_df = pd.read_csv(data_dir + 'kuka_framedata.csv')\n",
    "animation_df.head()"
   ]
  },
  {
   "cell_type": "code",
   "execution_count": 2,
   "metadata": {},
   "outputs": [
    {
     "name": "stdout",
     "output_type": "stream",
     "text": [
      "frame df length: 1425\n"
     ]
    }
   ],
   "source": [
    "print(f\"frame df length: {len(animation_df):}\")"
   ]
  },
  {
   "cell_type": "code",
   "execution_count": 3,
   "metadata": {},
   "outputs": [
    {
     "name": "stdout",
     "output_type": "stream",
     "text": [
      "filtered df length: 855\n"
     ]
    }
   ],
   "source": [
    "filtered_df = animation_df[~animation_df['Link'].str.contains('Axis')]\n",
    "filtered_df.head()\n",
    "print(f\"filtered df length: {len(filtered_df):}\")\n"
   ]
  },
  {
   "cell_type": "code",
   "execution_count": 4,
   "metadata": {},
   "outputs": [
    {
     "name": "stdout",
     "output_type": "stream",
     "text": [
      "link names: ['LinkN6.002']\n"
     ]
    }
   ],
   "source": [
    "links = [\"LinkN0\", \"LinkN1\", \"LinkN2\", \"LinkN3\", \"LinkN4\", \"LinkN5\", \"LinkN6\", \"LinkN7\"]\n",
    "weird_data = filtered_df[~filtered_df['Link'].isin(links)]\n",
    "print(f\"link names: {weird_data['Link'].unique()}\")"
   ]
  },
  {
   "cell_type": "code",
   "execution_count": 5,
   "metadata": {},
   "outputs": [
    {
     "name": "stdout",
     "output_type": "stream",
     "text": [
      "number of rows containing LinkN6.002: 95\n"
     ]
    }
   ],
   "source": [
    "weird_link = \"LinkN6.002\"\n",
    "print(f\"number of rows containing {weird_link}: {len(filtered_df[filtered_df['Link'] == weird_link])}\")"
   ]
  },
  {
   "cell_type": "code",
   "execution_count": 6,
   "metadata": {},
   "outputs": [
    {
     "name": "stdout",
     "output_type": "stream",
     "text": [
      "760\n"
     ]
    }
   ],
   "source": [
    "cleaned_df = filtered_df[~filtered_df['Link'].str.contains(weird_link)]\n",
    "print(len(cleaned_df))"
   ]
  },
  {
   "cell_type": "code",
   "execution_count": 7,
   "metadata": {},
   "outputs": [
    {
     "name": "stdout",
     "output_type": "stream",
     "text": [
      "unique link names before cleaning: ['LinkN0' 'LinkN0-Axis' 'LinkN1' 'LinkN1-Axis' 'LinkN2' 'LinkN2-Axis'\n",
      " 'LinkN3' 'LinkN3_Axis' 'LinkN4' 'LinkN4_Axis' 'LinkN5' 'LinkN5_Axis'\n",
      " 'LinkN6' 'LinkN6.002' 'LinkN7']\n",
      "unique link names after cleaning: ['LinkN0' 'LinkN1' 'LinkN2' 'LinkN3' 'LinkN4' 'LinkN5' 'LinkN6' 'LinkN7']\n"
     ]
    }
   ],
   "source": [
    "print(f\"unique link names before cleaning: {animation_df['Link'].unique()}\")\n",
    "print(f\"unique link names after cleaning: {cleaned_df['Link'].unique()}\")\n"
   ]
  },
  {
   "cell_type": "code",
   "execution_count": 8,
   "metadata": {},
   "outputs": [
    {
     "name": "stdout",
     "output_type": "stream",
     "text": [
      "Created dataframe for LinkN0 with 95 rows\n",
      "Created dataframe for LinkN1 with 95 rows\n",
      "Created dataframe for LinkN2 with 95 rows\n",
      "Created dataframe for LinkN3 with 95 rows\n",
      "Created dataframe for LinkN4 with 95 rows\n",
      "Created dataframe for LinkN5 with 95 rows\n",
      "Created dataframe for LinkN6 with 95 rows\n",
      "Created dataframe for LinkN7 with 95 rows\n"
     ]
    }
   ],
   "source": [
    "link_dfs = {}\n",
    "\n",
    "for link in links:\n",
    "    link_dfs[link] = cleaned_df[cleaned_df['Link'] == link].reset_index(drop=True)\n",
    "    if link != \"LinkN7\":\n",
    "        link_dfs[link]['qpos'] = link_dfs[link]['Y_Rotation']\n",
    "        link_dfs[link]['qvel'] = link_dfs[link]['Y_Velocity']\n",
    "    else:\n",
    "        link_dfs[link]['qpos'] = link_dfs[link]['Z_Rotation'] \n",
    "        link_dfs[link]['qvel'] = link_dfs[link]['Z_Velocity']\n",
    "        \n",
    "    print(f\"Created dataframe for {link} with {len(link_dfs[link])} rows\")\n",
    "\n"
   ]
  },
  {
   "cell_type": "code",
   "execution_count": 9,
   "metadata": {},
   "outputs": [
    {
     "data": {
      "text/html": [
       "<div>\n",
       "<style scoped>\n",
       "    .dataframe tbody tr th:only-of-type {\n",
       "        vertical-align: middle;\n",
       "    }\n",
       "\n",
       "    .dataframe tbody tr th {\n",
       "        vertical-align: top;\n",
       "    }\n",
       "\n",
       "    .dataframe thead th {\n",
       "        text-align: right;\n",
       "    }\n",
       "</style>\n",
       "<table border=\"1\" class=\"dataframe\">\n",
       "  <thead>\n",
       "    <tr style=\"text-align: right;\">\n",
       "      <th></th>\n",
       "      <th>Frame</th>\n",
       "      <th>Link</th>\n",
       "      <th>Parent</th>\n",
       "      <th>X_Position</th>\n",
       "      <th>Y_Position</th>\n",
       "      <th>Z_Position</th>\n",
       "      <th>X_Rotation</th>\n",
       "      <th>Y_Rotation</th>\n",
       "      <th>Z_Rotation</th>\n",
       "      <th>Y_Velocity</th>\n",
       "      <th>X_Velocity</th>\n",
       "      <th>Z_Velocity</th>\n",
       "      <th>qpos</th>\n",
       "      <th>qvel</th>\n",
       "    </tr>\n",
       "  </thead>\n",
       "  <tbody>\n",
       "    <tr>\n",
       "      <th>0</th>\n",
       "      <td>1</td>\n",
       "      <td>LinkN6</td>\n",
       "      <td>LinkN5</td>\n",
       "      <td>-4.440000e-17</td>\n",
       "      <td>-0.06265</td>\n",
       "      <td>1.18</td>\n",
       "      <td>0</td>\n",
       "      <td>0.00000</td>\n",
       "      <td>0.0</td>\n",
       "      <td>0.0</td>\n",
       "      <td>0</td>\n",
       "      <td>0</td>\n",
       "      <td>0.00000</td>\n",
       "      <td>0.0</td>\n",
       "    </tr>\n",
       "    <tr>\n",
       "      <th>1</th>\n",
       "      <td>2</td>\n",
       "      <td>LinkN6</td>\n",
       "      <td>LinkN5</td>\n",
       "      <td>-4.440000e-17</td>\n",
       "      <td>-0.06265</td>\n",
       "      <td>1.18</td>\n",
       "      <td>0</td>\n",
       "      <td>0.00000</td>\n",
       "      <td>0.0</td>\n",
       "      <td>0.0</td>\n",
       "      <td>0</td>\n",
       "      <td>0</td>\n",
       "      <td>0.00000</td>\n",
       "      <td>0.0</td>\n",
       "    </tr>\n",
       "    <tr>\n",
       "      <th>2</th>\n",
       "      <td>3</td>\n",
       "      <td>LinkN6</td>\n",
       "      <td>LinkN5</td>\n",
       "      <td>-4.440000e-17</td>\n",
       "      <td>-0.06265</td>\n",
       "      <td>1.18</td>\n",
       "      <td>0</td>\n",
       "      <td>0.00000</td>\n",
       "      <td>0.0</td>\n",
       "      <td>0.0</td>\n",
       "      <td>0</td>\n",
       "      <td>0</td>\n",
       "      <td>0.00000</td>\n",
       "      <td>0.0</td>\n",
       "    </tr>\n",
       "    <tr>\n",
       "      <th>3</th>\n",
       "      <td>4</td>\n",
       "      <td>LinkN6</td>\n",
       "      <td>LinkN5</td>\n",
       "      <td>-4.440000e-17</td>\n",
       "      <td>-0.06265</td>\n",
       "      <td>1.18</td>\n",
       "      <td>0</td>\n",
       "      <td>0.00000</td>\n",
       "      <td>0.0</td>\n",
       "      <td>0.0</td>\n",
       "      <td>0</td>\n",
       "      <td>0</td>\n",
       "      <td>0.00000</td>\n",
       "      <td>0.0</td>\n",
       "    </tr>\n",
       "    <tr>\n",
       "      <th>4</th>\n",
       "      <td>5</td>\n",
       "      <td>LinkN6</td>\n",
       "      <td>LinkN5</td>\n",
       "      <td>-4.440000e-17</td>\n",
       "      <td>-0.06265</td>\n",
       "      <td>1.18</td>\n",
       "      <td>0</td>\n",
       "      <td>0.00000</td>\n",
       "      <td>0.0</td>\n",
       "      <td>0.0</td>\n",
       "      <td>0</td>\n",
       "      <td>0</td>\n",
       "      <td>0.00000</td>\n",
       "      <td>0.0</td>\n",
       "    </tr>\n",
       "    <tr>\n",
       "      <th>...</th>\n",
       "      <td>...</td>\n",
       "      <td>...</td>\n",
       "      <td>...</td>\n",
       "      <td>...</td>\n",
       "      <td>...</td>\n",
       "      <td>...</td>\n",
       "      <td>...</td>\n",
       "      <td>...</td>\n",
       "      <td>...</td>\n",
       "      <td>...</td>\n",
       "      <td>...</td>\n",
       "      <td>...</td>\n",
       "      <td>...</td>\n",
       "      <td>...</td>\n",
       "    </tr>\n",
       "    <tr>\n",
       "      <th>90</th>\n",
       "      <td>91</td>\n",
       "      <td>LinkN6</td>\n",
       "      <td>LinkN5</td>\n",
       "      <td>-4.440000e-17</td>\n",
       "      <td>-0.06265</td>\n",
       "      <td>1.18</td>\n",
       "      <td>0</td>\n",
       "      <td>0.06418</td>\n",
       "      <td>0.0</td>\n",
       "      <td>0.0</td>\n",
       "      <td>0</td>\n",
       "      <td>0</td>\n",
       "      <td>0.06418</td>\n",
       "      <td>0.0</td>\n",
       "    </tr>\n",
       "    <tr>\n",
       "      <th>91</th>\n",
       "      <td>92</td>\n",
       "      <td>LinkN6</td>\n",
       "      <td>LinkN5</td>\n",
       "      <td>-4.440000e-17</td>\n",
       "      <td>-0.06265</td>\n",
       "      <td>1.18</td>\n",
       "      <td>0</td>\n",
       "      <td>0.06418</td>\n",
       "      <td>0.0</td>\n",
       "      <td>0.0</td>\n",
       "      <td>0</td>\n",
       "      <td>0</td>\n",
       "      <td>0.06418</td>\n",
       "      <td>0.0</td>\n",
       "    </tr>\n",
       "    <tr>\n",
       "      <th>92</th>\n",
       "      <td>93</td>\n",
       "      <td>LinkN6</td>\n",
       "      <td>LinkN5</td>\n",
       "      <td>-4.440000e-17</td>\n",
       "      <td>-0.06265</td>\n",
       "      <td>1.18</td>\n",
       "      <td>0</td>\n",
       "      <td>0.06418</td>\n",
       "      <td>0.0</td>\n",
       "      <td>0.0</td>\n",
       "      <td>0</td>\n",
       "      <td>0</td>\n",
       "      <td>0.06418</td>\n",
       "      <td>0.0</td>\n",
       "    </tr>\n",
       "    <tr>\n",
       "      <th>93</th>\n",
       "      <td>94</td>\n",
       "      <td>LinkN6</td>\n",
       "      <td>LinkN5</td>\n",
       "      <td>-4.440000e-17</td>\n",
       "      <td>-0.06265</td>\n",
       "      <td>1.18</td>\n",
       "      <td>0</td>\n",
       "      <td>0.06418</td>\n",
       "      <td>0.0</td>\n",
       "      <td>0.0</td>\n",
       "      <td>0</td>\n",
       "      <td>0</td>\n",
       "      <td>0.06418</td>\n",
       "      <td>0.0</td>\n",
       "    </tr>\n",
       "    <tr>\n",
       "      <th>94</th>\n",
       "      <td>95</td>\n",
       "      <td>LinkN6</td>\n",
       "      <td>LinkN5</td>\n",
       "      <td>-4.440000e-17</td>\n",
       "      <td>-0.06265</td>\n",
       "      <td>1.18</td>\n",
       "      <td>0</td>\n",
       "      <td>0.06418</td>\n",
       "      <td>0.0</td>\n",
       "      <td>0.0</td>\n",
       "      <td>0</td>\n",
       "      <td>0</td>\n",
       "      <td>0.06418</td>\n",
       "      <td>0.0</td>\n",
       "    </tr>\n",
       "  </tbody>\n",
       "</table>\n",
       "<p>95 rows × 14 columns</p>\n",
       "</div>"
      ],
      "text/plain": [
       "    Frame    Link  Parent    X_Position  Y_Position  Z_Position  X_Rotation  \\\n",
       "0       1  LinkN6  LinkN5 -4.440000e-17    -0.06265        1.18           0   \n",
       "1       2  LinkN6  LinkN5 -4.440000e-17    -0.06265        1.18           0   \n",
       "2       3  LinkN6  LinkN5 -4.440000e-17    -0.06265        1.18           0   \n",
       "3       4  LinkN6  LinkN5 -4.440000e-17    -0.06265        1.18           0   \n",
       "4       5  LinkN6  LinkN5 -4.440000e-17    -0.06265        1.18           0   \n",
       "..    ...     ...     ...           ...         ...         ...         ...   \n",
       "90     91  LinkN6  LinkN5 -4.440000e-17    -0.06265        1.18           0   \n",
       "91     92  LinkN6  LinkN5 -4.440000e-17    -0.06265        1.18           0   \n",
       "92     93  LinkN6  LinkN5 -4.440000e-17    -0.06265        1.18           0   \n",
       "93     94  LinkN6  LinkN5 -4.440000e-17    -0.06265        1.18           0   \n",
       "94     95  LinkN6  LinkN5 -4.440000e-17    -0.06265        1.18           0   \n",
       "\n",
       "    Y_Rotation  Z_Rotation  Y_Velocity  X_Velocity  Z_Velocity     qpos  qvel  \n",
       "0      0.00000         0.0         0.0           0           0  0.00000   0.0  \n",
       "1      0.00000         0.0         0.0           0           0  0.00000   0.0  \n",
       "2      0.00000         0.0         0.0           0           0  0.00000   0.0  \n",
       "3      0.00000         0.0         0.0           0           0  0.00000   0.0  \n",
       "4      0.00000         0.0         0.0           0           0  0.00000   0.0  \n",
       "..         ...         ...         ...         ...         ...      ...   ...  \n",
       "90     0.06418         0.0         0.0           0           0  0.06418   0.0  \n",
       "91     0.06418         0.0         0.0           0           0  0.06418   0.0  \n",
       "92     0.06418         0.0         0.0           0           0  0.06418   0.0  \n",
       "93     0.06418         0.0         0.0           0           0  0.06418   0.0  \n",
       "94     0.06418         0.0         0.0           0           0  0.06418   0.0  \n",
       "\n",
       "[95 rows x 14 columns]"
      ]
     },
     "execution_count": 9,
     "metadata": {},
     "output_type": "execute_result"
    }
   ],
   "source": [
    "link_dfs['LinkN6']"
   ]
  },
  {
   "cell_type": "code",
   "execution_count": 10,
   "metadata": {},
   "outputs": [],
   "source": [
    "# Start with the first link's frame, qpos and qvel\n",
    "merged_df = link_dfs[links[0]][['Frame', 'qpos', 'qvel']].copy()\n",
    "merged_df.rename(columns={\n",
    "    'qpos': f'qpos_{links[0]}',\n",
    "    'qvel': f'qvel_{links[0]}'\n",
    "}, inplace=True)\n",
    "\n",
    "# Merge with remaining links\n",
    "for link in links[1:]:\n",
    "    link_data = link_dfs[link][['Frame', 'qpos', 'qvel']].copy()\n",
    "    link_data.rename(columns={\n",
    "        'qpos': f'qpos_{link}',\n",
    "        'qvel': f'qvel_{link}'\n",
    "    }, inplace=True)\n",
    "    merged_df = pd.merge(merged_df, link_data, on='Frame')"
   ]
  },
  {
   "cell_type": "code",
   "execution_count": 11,
   "metadata": {},
   "outputs": [
    {
     "name": "stdout",
     "output_type": "stream",
     "text": [
      "   Frame  qpos_LinkN0  qvel_LinkN0  qpos_LinkN1  qvel_LinkN1  qpos_LinkN2  \\\n",
      "0      1          0.0          0.0          0.0          0.0     0.000000   \n",
      "1      2          0.0          0.0          0.0          0.0    -0.008752   \n",
      "2      3          0.0          0.0          0.0          0.0    -0.033218   \n",
      "3      4          0.0          0.0          0.0          0.0    -0.070715   \n",
      "4      5          0.0          0.0          0.0          0.0    -0.118558   \n",
      "\n",
      "   qvel_LinkN2  qpos_LinkN3  qvel_LinkN3  qpos_LinkN4  qvel_LinkN4  \\\n",
      "0     0.000000          0.0          0.0          0.0          0.0   \n",
      "1    -0.210044          0.0          0.0          0.0          0.0   \n",
      "2    -0.587190          0.0          0.0          0.0          0.0   \n",
      "3    -0.899923          0.0          0.0          0.0          0.0   \n",
      "4    -1.148244          0.0          0.0          0.0          0.0   \n",
      "\n",
      "   qpos_LinkN5  qvel_LinkN5  qpos_LinkN6  qvel_LinkN6  qpos_LinkN7  \\\n",
      "0          0.0          0.0          0.0          0.0     1.397127   \n",
      "1          0.0          0.0          0.0          0.0     1.397127   \n",
      "2          0.0          0.0          0.0          0.0     1.397127   \n",
      "3          0.0          0.0          0.0          0.0     1.397127   \n",
      "4          0.0          0.0          0.0          0.0     1.397127   \n",
      "\n",
      "   qvel_LinkN7  \n",
      "0            0  \n",
      "1            0  \n",
      "2            0  \n",
      "3            0  \n",
      "4            0  \n"
     ]
    }
   ],
   "source": [
    "print(merged_df.head())"
   ]
  },
  {
   "cell_type": "code",
   "execution_count": 12,
   "metadata": {},
   "outputs": [
    {
     "name": "stdout",
     "output_type": "stream",
     "text": [
      "95\n"
     ]
    }
   ],
   "source": [
    "print(len(merged_df))"
   ]
  },
  {
   "cell_type": "code",
   "execution_count": 13,
   "metadata": {},
   "outputs": [],
   "source": [
    "merged_df.to_csv(data_dir + 'kuka_formatted.csv', index=False)"
   ]
  }
 ],
 "metadata": {
  "kernelspec": {
   "display_name": ".venv",
   "language": "python",
   "name": "python3"
  },
  "language_info": {
   "codemirror_mode": {
    "name": "ipython",
    "version": 3
   },
   "file_extension": ".py",
   "mimetype": "text/x-python",
   "name": "python",
   "nbconvert_exporter": "python",
   "pygments_lexer": "ipython3",
   "version": "3.10.15"
  }
 },
 "nbformat": 4,
 "nbformat_minor": 2
}
