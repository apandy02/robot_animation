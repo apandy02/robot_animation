{
 "cells": [
  {
   "cell_type": "code",
   "execution_count": null,
   "metadata": {},
   "outputs": [],
   "source": [
    "import pandas as pd \n",
    "\n",
    "data_dir = '../data/'\n",
    "\n",
    "animation_df = pd.read_csv(data_dir + 'kuka_2.csv')\n",
    "animation_df.head()"
   ]
  },
  {
   "cell_type": "code",
   "execution_count": null,
   "metadata": {},
   "outputs": [],
   "source": [
    "print(f\"frame df length: {len(animation_df):}\")"
   ]
  },
  {
   "cell_type": "code",
   "execution_count": null,
   "metadata": {},
   "outputs": [],
   "source": [
    "filtered_df = animation_df[~animation_df['Link'].str.contains('Axis')]\n",
    "filtered_df.head()\n",
    "print(f\"filtered df length: {len(filtered_df):}\")\n"
   ]
  },
  {
   "cell_type": "code",
   "execution_count": null,
   "metadata": {},
   "outputs": [],
   "source": [
    "links = [\"LinkN0\", \"LinkN1\", \"LinkN2\", \"LinkN3\", \"LinkN4\", \"LinkN5\", \"LinkN6\", \"LinkN7\"]\n",
    "weird_data = filtered_df[~filtered_df['Link'].isin(links)]\n",
    "print(f\"link names: {weird_data['Link'].unique()}\")"
   ]
  },
  {
   "cell_type": "code",
   "execution_count": 18,
   "metadata": {},
   "outputs": [
    {
     "name": "stdout",
     "output_type": "stream",
     "text": [
      "number of rows containing LinkN6.002: 461\n"
     ]
    }
   ],
   "source": [
    "weird_link = \"LinkN6.002\"\n",
    "print(f\"number of rows containing {weird_link}: {len(filtered_df[filtered_df['Link'] == weird_link])}\")"
   ]
  },
  {
   "cell_type": "code",
   "execution_count": 19,
   "metadata": {},
   "outputs": [
    {
     "name": "stdout",
     "output_type": "stream",
     "text": [
      "3688\n"
     ]
    }
   ],
   "source": [
    "cleaned_df = filtered_df[~filtered_df['Link'].str.contains(weird_link)]\n",
    "print(len(cleaned_df))"
   ]
  },
  {
   "cell_type": "code",
   "execution_count": 20,
   "metadata": {},
   "outputs": [
    {
     "name": "stdout",
     "output_type": "stream",
     "text": [
      "unique link names before cleaning: ['LinkN0' 'LinkN0-Axis' 'LinkN1' 'LinkN1-Axis' 'LinkN2' 'LinkN2-Axis'\n",
      " 'LinkN3' 'LinkN3_Axis' 'LinkN4' 'LinkN4_Axis' 'LinkN5' 'LinkN5_Axis'\n",
      " 'LinkN6' 'LinkN6.002' 'LinkN7']\n",
      "unique link names after cleaning: ['LinkN0' 'LinkN1' 'LinkN2' 'LinkN3' 'LinkN4' 'LinkN5' 'LinkN6' 'LinkN7']\n"
     ]
    }
   ],
   "source": [
    "print(f\"unique link names before cleaning: {animation_df['Link'].unique()}\")\n",
    "print(f\"unique link names after cleaning: {cleaned_df['Link'].unique()}\")\n"
   ]
  },
  {
   "cell_type": "code",
   "execution_count": null,
   "metadata": {},
   "outputs": [],
   "source": [
    "link_dfs = {}\n",
    "\n",
    "for link in links:\n",
    "    link_dfs[link] = cleaned_df[cleaned_df['Link'] == link].reset_index(drop=True)\n",
    "    if link != \"LinkN7\":\n",
    "        link_dfs[link]['qpos'] = link_dfs[link]['Y_Rotation']\n",
    "        link_dfs[link]['qvel'] = link_dfs[link]['Y_Velocity']\n",
    "    else:\n",
    "        link_dfs[link]['qpos'] = link_dfs[link]['Z_Rotation'] \n",
    "        link_dfs[link]['qvel'] = link_dfs[link]['Z_Velocity']\n",
    "        \n",
    "    print(f\"Created dataframe for {link} with {len(link_dfs[link])} rows\")\n",
    "\n"
   ]
  },
  {
   "cell_type": "code",
   "execution_count": null,
   "metadata": {},
   "outputs": [],
   "source": [
    "link_dfs['LinkN6']"
   ]
  },
  {
   "cell_type": "code",
   "execution_count": 23,
   "metadata": {},
   "outputs": [],
   "source": [
    "# Start with the first link's frame, qpos and qvel\n",
    "merged_df = link_dfs[links[0]][['Frame', 'qpos', 'qvel']].copy()\n",
    "merged_df.rename(columns={\n",
    "    'qpos': f'qpos_{links[0]}',\n",
    "    'qvel': f'qvel_{links[0]}'\n",
    "}, inplace=True)\n",
    "\n",
    "# Merge with remaining links\n",
    "for link in links[1:]:\n",
    "    link_data = link_dfs[link][['Frame', 'qpos', 'qvel']].copy()\n",
    "    link_data.rename(columns={\n",
    "        'qpos': f'qpos_{link}',\n",
    "        'qvel': f'qvel_{link}'\n",
    "    }, inplace=True)\n",
    "    merged_df = pd.merge(merged_df, link_data, on='Frame')"
   ]
  },
  {
   "cell_type": "code",
   "execution_count": null,
   "metadata": {},
   "outputs": [],
   "source": [
    "print(merged_df.head())"
   ]
  },
  {
   "cell_type": "code",
   "execution_count": 25,
   "metadata": {},
   "outputs": [
    {
     "name": "stdout",
     "output_type": "stream",
     "text": [
      "461\n"
     ]
    }
   ],
   "source": [
    "print(len(merged_df))"
   ]
  },
  {
   "cell_type": "code",
   "execution_count": 26,
   "metadata": {},
   "outputs": [],
   "source": [
    "merged_df.to_csv(data_dir + 'kuka_formatted2.csv', index=False)"
   ]
  }
 ],
 "metadata": {
  "kernelspec": {
   "display_name": ".venv",
   "language": "python",
   "name": "python3"
  },
  "language_info": {
   "codemirror_mode": {
    "name": "ipython",
    "version": 3
   },
   "file_extension": ".py",
   "mimetype": "text/x-python",
   "name": "python",
   "nbconvert_exporter": "python",
   "pygments_lexer": "ipython3",
   "version": "3.10.13"
  }
 },
 "nbformat": 4,
 "nbformat_minor": 2
}
